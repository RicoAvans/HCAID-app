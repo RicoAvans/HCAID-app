{
 "cells": [
  {
   "cell_type": "code",
   "execution_count": null,
   "metadata": {
    "collapsed": true,
    "pycharm": {
     "name": "#%%\n"
    }
   },
   "outputs": [],
   "source": [
    "import pandas as pd\n",
    "import numpy as np\n",
    "import time\n",
    "import seaborn as sns\n",
    "from matplotlib import pyplot as plt"
   ]
  },
  {
   "cell_type": "code",
   "execution_count": null,
   "outputs": [],
   "source": [
    "colNames = ['hoeveel', 'wanneer', 'laat', 'lang', 'kwaliteit']\n",
    "data = pd.read_csv(filepath_or_buffer=r'C:\\Users\\Ricardo\\OneDrive - Avans Hogeschool\\1 school HBO\\School HBO v2\\4.1\\Human Centered AI Design\\web application\\Cafeïne en slaaptekort.csv'\n",
    "                    , sep=\";\", header=0, names=colNames, usecols=[1,2,3,4,5], encoding = \"ISO-8859-1\")\n",
    "\n",
    "data"
   ],
   "metadata": {
    "collapsed": false,
    "pycharm": {
     "name": "#%%\n"
    }
   }
  },
  {
   "cell_type": "code",
   "execution_count": null,
   "outputs": [],
   "source": [
    "def categorise_hoeveel(hoeveel):\n",
    "    if hoeveel == \"Geen\":\n",
    "        return 0\n",
    "    elif hoeveel == \"1 tot 2 per dag\":\n",
    "        return 1\n",
    "    elif hoeveel == \"3 tot 4 per dag\":\n",
    "        return 3\n",
    "    elif hoeveel == \"5 tot 6 per dag\":\n",
    "        return 5\n",
    "    elif hoeveel == \"meer dan 6 per dag\":\n",
    "        return 7\n",
    "\n",
    "def categorise_wanneer(wanneer):\n",
    "    if wanneer == \"Voor of tijdens de lunch\":\n",
    "        return 0\n",
    "    elif wanneer == \"Tussen 15:00 en 17:00\":\n",
    "        return 15\n",
    "    elif wanneer == \"Tussen 17:00 en 19:00\":\n",
    "        return 17\n",
    "    elif wanneer == \"Tussen 19:00 en 21:00\":\n",
    "        return 19\n",
    "    elif wanneer == \"Tussen 21:00 en 23:00\":\n",
    "        return 21\n",
    "    elif wanneer == \"Na 23:00\":\n",
    "        return 23\n",
    "\n",
    "def categorise_laat(laat):\n",
    "    if laat == \"Tussen 21:00 en 22:00\":\n",
    "        return 21\n",
    "    elif laat == \"Tussen 22:00 en 23:00\":\n",
    "        return 22\n",
    "    elif laat == \"Tussen 23:00 en 00:00\":\n",
    "        return 23\n",
    "    elif laat == \"Tussen 00:00 en 02:00\":\n",
    "        return 24\n",
    "    elif laat == \"Tussen 02:00 en 04:00\":\n",
    "        return 26\n",
    "\n",
    "def categorise_lang(lang):\n",
    "    if lang == \"Minder dan 10 min\":\n",
    "        return 0\n",
    "    elif lang == \"Tussen 10 min en 30 min\":\n",
    "        return 1\n",
    "    elif lang == \"Tussen 30 min en 1 uur\":\n",
    "        return 2\n",
    "    elif lang == \"Meer dan 1 uur\":\n",
    "        return 3\n",
    "\n",
    "dataHeat = data.copy(deep=True)\n",
    "\n",
    "dataHeat['hoeveel'] = data['hoeveel'].apply(categorise_hoeveel)\n",
    "dataHeat['wanneer'] = data['wanneer'].apply(categorise_wanneer)\n",
    "dataHeat['laat'] = data['laat'].apply(categorise_laat)\n",
    "dataHeat['lang'] = data['lang'].apply(categorise_lang)\n",
    "\n",
    "\n",
    "dataHeat"
   ],
   "metadata": {
    "collapsed": false,
    "pycharm": {
     "name": "#%%\n"
    }
   }
  },
  {
   "cell_type": "code",
   "execution_count": null,
   "outputs": [],
   "source": [
    "wanneerCounts = dataHeat['wanneer'].value_counts()\n",
    "wanneerCounts"
   ],
   "metadata": {
    "collapsed": false,
    "pycharm": {
     "name": "#%%\n"
    }
   }
  },
  {
   "cell_type": "code",
   "execution_count": null,
   "outputs": [],
   "source": [
    "corData = dataHeat[['wanneer', 'lang']]\n",
    "corData.corr()"
   ],
   "metadata": {
    "collapsed": false,
    "pycharm": {
     "name": "#%%\n"
    }
   }
  },
  {
   "cell_type": "code",
   "execution_count": null,
   "outputs": [],
   "source": [
    "sns.heatmap(dataHeat.corr(), annot = True, vmin=-1, vmax=1, center= 0)"
   ],
   "metadata": {
    "collapsed": false,
    "pycharm": {
     "name": "#%%\n"
    }
   }
  },
  {
   "cell_type": "code",
   "execution_count": null,
   "outputs": [],
   "source": [
    "from tensorflow.keras.utils import to_categorical\n",
    "# X = dataHeat.copy(deep=True)\n",
    "# del X['lang'], X['kwaliteit']\n",
    "#\n",
    "# Y = dataHeat.copy(deep=True)\n",
    "# del Y['hoeveel'], Y['wanneer'], Y['laat'], Y['kwaliteit']\n",
    "# Y\n",
    "X = dataHeat.drop([\"hoeveel\", \"lang\", \"kwaliteit\"],  axis=1)\n",
    "#X.drop('kwaliteit', axis=1)\n",
    "Xlist = X.values.tolist()\n",
    "\n",
    "Y = dataHeat.drop([\"hoeveel\", \"wanneer\", \"laat\", \"kwaliteit\"], axis=1)\n",
    "Ycat = to_categorical(Y)\n",
    "Ylist = Ycat.tolist()\n",
    "Xlist"
   ],
   "metadata": {
    "collapsed": false,
    "pycharm": {
     "name": "#%%\n"
    }
   }
  },
  {
   "cell_type": "code",
   "execution_count": null,
   "outputs": [],
   "source": [
    "import tensorflow as tf\n",
    "from tensorflow import keras\n",
    "from tensorflow.keras.models import Sequential\n",
    "from tensorflow.keras.layers import Dense\n",
    "from tensorflow.keras.optimizers import SGD, Adam, Adagrad, RMSprop\n",
    "#from tensorflow.keras.utils import to_categorical\n",
    "#from sklearn.model_selection import train_test_split"
   ],
   "metadata": {
    "collapsed": false,
    "pycharm": {
     "name": "#%%\n"
    }
   }
  },
  {
   "cell_type": "code",
   "execution_count": null,
   "outputs": [],
   "source": [
    "model = Sequential()\n",
    "epochs = 500\n",
    "\n",
    "model.add(Dense(2, input_shape=(2,), activation='relu'))\n",
    "model.add(Dense(3, activation='tanh'))\n",
    "#model.add(Dense(4, activation='relu'))\n",
    "model.add(Dense(5, activation='tanh'))\n",
    "model.add(Dense(4, activation='softmax'))\n",
    "model.compile(Adam(learning_rate=0.001), loss='categorical_crossentropy', metrics=['accuracy']) #binary_crossentropy\n",
    "\n",
    "history = model.fit(Xlist, Ylist, epochs=epochs, batch_size=50, verbose=2) #batch_size=10,\n"
   ],
   "metadata": {
    "collapsed": false,
    "pycharm": {
     "name": "#%%\n"
    }
   }
  },
  {
   "cell_type": "code",
   "execution_count": null,
   "outputs": [],
   "source": [
    "loss_train = history.history['loss']\n",
    "acc_train = history.history['accuracy']\n",
    "epochs = range(0,epochs)\n",
    "\n",
    "# plt.subplot(1,2,1)\n",
    "# plt.plot(epochs, loss_train, 'g', label='Training loss')\n",
    "# plt.title('Training loss')\n",
    "# plt.xlabel('Epochs')\n",
    "# plt.ylabel('Loss')\n",
    "# plt.subplot(1,2,2)\n",
    "# plt.plot(epochs, acc_train, 'g', label='Training accuracy')\n",
    "# plt.title('Training and Validation accuracy')\n",
    "# plt.xlabel('Epochs')\n",
    "# plt.ylabel('Accuracy')\n",
    "# plt.show()\n",
    "\n",
    "fig = plt.figure()\n",
    "plt.plot(epochs, loss_train, 'g', label='Training loss')\n",
    "plt.title('Training loss')\n",
    "plt.xlabel('Epochs')\n",
    "plt.ylabel('Loss')\n",
    "plt.show()\n",
    "\n",
    "fig = plt.figure()\n",
    "plt.plot(epochs, acc_train, 'g', label='Training accuracy')\n",
    "plt.title('Training  accuracy')\n",
    "plt.xlabel('Epochs')\n",
    "plt.ylabel('Accuracy')\n",
    "plt.show()"
   ],
   "metadata": {
    "collapsed": false,
    "pycharm": {
     "name": "#%%\n"
    }
   }
  },
  {
   "cell_type": "code",
   "execution_count": null,
   "outputs": [],
   "source": [
    "# Save the weights\n",
    "#model.save('model_save/model84')\n",
    "\n",
    "# Restore the weights\n",
    "#model.load_weights('./checkpoints/my_checkpoint')\n",
    "\n",
    "new_model = tf.keras.models.load_model('model_save/model84')\n",
    "\n",
    "# Evaluate the model\n",
    "loss, acc = new_model.evaluate(Xlist, Ylist, verbose=2)\n",
    "print(\"Restored model, accuracy: {:5.2f}%\".format(100 * acc))"
   ],
   "metadata": {
    "collapsed": false,
    "pycharm": {
     "name": "#%%\n"
    }
   }
  },
  {
   "cell_type": "code",
   "execution_count": null,
   "outputs": [],
   "source": [],
   "metadata": {
    "collapsed": false,
    "pycharm": {
     "name": "#%%\n"
    }
   }
  }
 ],
 "metadata": {
  "kernelspec": {
   "display_name": "Python 3",
   "language": "python",
   "name": "python3"
  },
  "language_info": {
   "codemirror_mode": {
    "name": "ipython",
    "version": 2
   },
   "file_extension": ".py",
   "mimetype": "text/x-python",
   "name": "python",
   "nbconvert_exporter": "python",
   "pygments_lexer": "ipython2",
   "version": "2.7.6"
  }
 },
 "nbformat": 4,
 "nbformat_minor": 0
}